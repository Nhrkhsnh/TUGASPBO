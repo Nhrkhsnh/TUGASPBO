{
  "nbformat": 4,
  "nbformat_minor": 0,
  "metadata": {
    "colab": {
      "provenance": [],
      "authorship_tag": "ABX9TyPXQnSTClfk/Zkprm8uzGtg",
      "include_colab_link": true
    },
    "kernelspec": {
      "name": "python3",
      "display_name": "Python 3"
    },
    "language_info": {
      "name": "python"
    }
  },
  "cells": [
    {
      "cell_type": "markdown",
      "metadata": {
        "id": "view-in-github",
        "colab_type": "text"
      },
      "source": [
        "<a href=\"https://colab.research.google.com/github/Nhrkhsnh/TUGASPBO/blob/main/Untitled16.ipynb\" target=\"_parent\"><img src=\"https://colab.research.google.com/assets/colab-badge.svg\" alt=\"Open In Colab\"/></a>"
      ]
    },
    {
      "cell_type": "code",
      "execution_count": 8,
      "metadata": {
        "id": "KlWGPCvkdB2w"
      },
      "outputs": [],
      "source": [
        "# Buat program latihan di sini\n",
        "# Nama  : Nur khasanah\n",
        "# kelas : XI RPL 2\n",
        "\n",
        "class Lingkaran:\n",
        "  def __init__(self, r):\n",
        "    self.r = r\n",
        "  def get_luas(self):\n",
        "    return 3.14*r*r\n",
        "  def get_keliling(self) :\n",
        "    return 2 * 3.14\n"
      ]
    },
    {
      "cell_type": "code",
      "source": [
        "r = float(input(\"Masukkan Jari Jari:\\t\"))\n",
        "\n",
        "Lingkaran_1 = Lingkaran(r)\n",
        "\n",
        "luas_lingkaran = Lingkaran_1.get_luas()\n",
        "print(\"luas lingkaran:\", luas_lingkaran)\n",
        "\n",
        "keliling_lingkaran = Lingkaran_1.get_keliling()\n",
        "print(\"keliling lingkaran\", keliling_lingkaran)"
      ],
      "metadata": {
        "colab": {
          "base_uri": "https://localhost:8080/"
        },
        "id": "-FgMX284dMrT",
        "outputId": "ad24ee80-0b21-4096-f195-d1ee29049a4f"
      },
      "execution_count": 9,
      "outputs": [
        {
          "output_type": "stream",
          "name": "stdout",
          "text": [
            "Masukkan Jari Jari:\t45\n",
            "luas lingkaran: 6358.500000000001\n",
            "keliling lingkaran 6.28\n"
          ]
        }
      ]
    }
  ]
}