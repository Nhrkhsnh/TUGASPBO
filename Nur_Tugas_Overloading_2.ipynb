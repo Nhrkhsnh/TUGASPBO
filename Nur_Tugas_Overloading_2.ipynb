{
  "nbformat": 4,
  "nbformat_minor": 0,
  "metadata": {
    "colab": {
      "provenance": [],
      "include_colab_link": true
    },
    "kernelspec": {
      "name": "python3",
      "display_name": "Python 3"
    },
    "language_info": {
      "name": "python"
    }
  },
  "cells": [
    {
      "cell_type": "markdown",
      "metadata": {
        "id": "view-in-github",
        "colab_type": "text"
      },
      "source": [
        "<a href=\"https://colab.research.google.com/github/Nhrkhsnh/TUGASPBO/blob/main/Nur_Tugas_Overloading_2.ipynb\" target=\"_parent\"><img src=\"https://colab.research.google.com/assets/colab-badge.svg\" alt=\"Open In Colab\"/></a>"
      ]
    },
    {
      "cell_type": "code",
      "execution_count": 5,
      "metadata": {
        "id": "5zCytCeM1uD4"
      },
      "outputs": [],
      "source": [
        "#class Nama\n",
        "#Buat fungsi yang digunakan untuk mengabungkan nama dengan ketentuan nama depan, nama tengah, nama akhir, dan seterusnya dianggap 1 (satu) parameter\n",
        "class Nama:\n",
        "  def gabung_nama(self, *nama):\n",
        "    nama_lengkap = ' '.join(nama)\n",
        "    return nama_lengkap\n"
      ]
    },
    {
      "cell_type": "code",
      "source": [
        "#Buat main program\n",
        "nm = Nama()\n",
        "#Panggil fungsi untuk membuat nama lengkap 4 nama teman kalian\n",
        "nm1 = nm.gabung_nama(\"Nur\", \"Khasanah\")\n",
        "nm2 = nm.gabung_nama(\"Sella\", \"Mutomimah\")\n",
        "nm3 = nm.gabung_nama(\"Vinda\", \"Delima\", \"Herawati\")\n",
        "nm4 = nm.gabung_nama(\"Naura\", \"Putri\", \"Nofitasr\")\n",
        "\n",
        "print(nm1)\n",
        "print(nm2)\n",
        "print(nm3)\n",
        "print(nm4)"
      ],
      "metadata": {
        "id": "liQBcJWZ12MN",
        "colab": {
          "base_uri": "https://localhost:8080/"
        },
        "outputId": "d4b7f0cd-8986-4dc1-d3cb-45e74ea65387"
      },
      "execution_count": 6,
      "outputs": [
        {
          "output_type": "stream",
          "name": "stdout",
          "text": [
            "Nur Khasanah\n",
            "Sella Mutomimah\n",
            "Vinda Delima Herawati\n",
            "Naura Putri Nofitasr\n"
          ]
        }
      ]
    },
    {
      "cell_type": "code",
      "source": [
        "#Tulisakan kesimpulan dari materi Overloading menurut pemahaman anda!\n",
        "#Simple , outputnya mudah dipahami"
      ],
      "metadata": {
        "id": "xwFmppIG3JGE"
      },
      "execution_count": 7,
      "outputs": []
    }
  ]
}