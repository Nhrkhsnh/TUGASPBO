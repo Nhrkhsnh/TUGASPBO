{
  "nbformat": 4,
  "nbformat_minor": 0,
  "metadata": {
    "colab": {
      "provenance": [],
      "include_colab_link": true
    },
    "kernelspec": {
      "name": "python3",
      "display_name": "Python 3"
    },
    "language_info": {
      "name": "python"
    }
  },
  "cells": [
    {
      "cell_type": "markdown",
      "metadata": {
        "id": "view-in-github",
        "colab_type": "text"
      },
      "source": [
        "<a href=\"https://colab.research.google.com/github/Nhrkhsnh/TUGASPBO/blob/main/Nur_Overloading.ipynb\" target=\"_parent\"><img src=\"https://colab.research.google.com/assets/colab-badge.svg\" alt=\"Open In Colab\"/></a>"
      ]
    },
    {
      "cell_type": "code",
      "execution_count": 1,
      "metadata": {
        "id": "cytAUNWzM1-6"
      },
      "outputs": [],
      "source": [
        "class Penjumlahan:\n",
        "    # method hasil() dengan variasi parameter\n",
        "    def hasil(self, *args):\n",
        "        if (len(args) <= 4):\n",
        "            sum = 1\n",
        "            for num in args:\n",
        "                sum += num\n",
        "            print(sum)\n",
        "        else:\n",
        "            print(\"Maksimum 4 argumen\")"
      ]
    },
    {
      "cell_type": "code",
      "source": [
        "#Buat main program\n",
        "coba = Penjumlahan()\n",
        "#Panggil fungsi Hitung untuk menghitung 2 parameter\n",
        "coba.hasil(2, 2)\n",
        "#Panggil fungsi Hitung untuk menghitung 3 parameter\n",
        "coba.hasil(2, 2, 4)\n",
        "#Panggil fungsi Hitung untuk menghitung 4 parameter\n",
        "coba.hasil(2, 2, 1, 3)"
      ],
      "metadata": {
        "id": "W9hN-kX7PDUI",
        "colab": {
          "base_uri": "https://localhost:8080/"
        },
        "outputId": "f21cf012-8f93-4cb4-cca4-fac785420797"
      },
      "execution_count": 2,
      "outputs": [
        {
          "output_type": "stream",
          "name": "stdout",
          "text": [
            "5\n",
            "9\n",
            "9\n"
          ]
        }
      ]
    }
  ]
}